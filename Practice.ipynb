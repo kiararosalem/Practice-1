{
 "cells": [
  {
   "cell_type": "code",
   "execution_count": 1,
   "metadata": {},
   "outputs": [
    {
     "name": "stdout",
     "output_type": "stream",
     "text": [
      "[' Daisy', 'Sunflower', 'Rose', ' Tulips', 'Lavander', ' Daisy']\n",
      "\n"
     ]
    }
   ],
   "source": [
    "#List\n",
    "flower =  [ \" Daisy\",\"Sunflower\", \"Rose\", \" Tulips\",\"Lavander\", \" Rose\", \" Daisy\"]\n",
    "del (flower[5])\n",
    "print(flower)\n",
    "print()"
   ]
  },
  {
   "cell_type": "code",
   "execution_count": 2,
   "metadata": {},
   "outputs": [
    {
     "name": "stdout",
     "output_type": "stream",
     "text": [
      "['Luna', ' Yanna', ' Sam', ' Via', 'Kierra', 'Elyse']\n",
      "['16', '17', '18', ' 19', '20', '21']\n",
      "6\n"
     ]
    }
   ],
   "source": [
    "#List\n",
    "#basicInformation\n",
    "Name = [\"Luna\", \" Yanna\",\" Sam\", \" Via\", \"Kierra\", \"Elyse\"]\n",
    "Age = [\"16\", \"17\", \"18\", \" 19\", \"20\",\"21\" ]\n",
    "\n",
    "print(Name)\n",
    "print(Age)\n",
    "print(len(Name)) # To determine how many items a list has\n",
    " "
   ]
  },
  {
   "cell_type": "code",
   "execution_count": 3,
   "metadata": {},
   "outputs": [
    {
     "name": "stdout",
     "output_type": "stream",
     "text": [
      "BSU\n"
     ]
    }
   ],
   "source": [
    "#List\n",
    "University = [ \"UST\", \"ADU\", \"FEU\", \" NU\", \"UP\", \" PUP\", \"BSU\", \"UB\", \"LPU\", \"LA SALLE\", ]\n",
    "\n",
    "print(University[6])"
   ]
  },
  {
   "cell_type": "code",
   "execution_count": 4,
   "metadata": {},
   "outputs": [
    {
     "name": "stdout",
     "output_type": "stream",
     "text": [
      "{'Fries', 'Pizza', ' Pop Corn', ' Burger', '  Ice Cream', 'Donut', 'Chocolate'}\n"
     ]
    }
   ],
   "source": [
    "# Set\n",
    "set = { \"Pizza\", \"Fries\", \" Burger\", \"Nachos\", \"Donut\", \" Pop Corn\", \"  Ice Cream\"}\n",
    "set.remove  ( \"Nachos\")\n",
    "set.add (\"Chocolate\")\n",
    "print(set)\n"
   ]
  },
  {
   "cell_type": "code",
   "execution_count": 5,
   "metadata": {},
   "outputs": [
    {
     "name": "stdout",
     "output_type": "stream",
     "text": [
      "{'Name': 'Solana ', ' Age': '19', ' Gender': ' female'}\n"
     ]
    }
   ],
   "source": [
    "# Dictionary\n",
    "Dict =  { \"Name\" : \"Solana \",\n",
    "          \" Age\" : \"19\",\n",
    "          \" Gender\" : \" female\"\n",
    "        } \n",
    "print (Dict)"
   ]
  },
  {
   "cell_type": "code",
   "execution_count": 6,
   "metadata": {},
   "outputs": [
    {
     "name": "stdout",
     "output_type": "stream",
     "text": [
      "Solana \n",
      "19\n",
      "female\n"
     ]
    }
   ],
   "source": [
    "# Dictionary\n",
    "Dict =  { \" Name\" : \"Solana \",\n",
    "          \" Age\" : \"19\",\n",
    "          \" Gender\" : \"female\"\n",
    "        } \n",
    "print (Dict [\" Name\"])\n",
    "print (Dict [\" Age\"])\n",
    "print (Dict [\" Gender\"])"
   ]
  },
  {
   "cell_type": "code",
   "execution_count": 16,
   "metadata": {},
   "outputs": [
    {
     "name": "stdout",
     "output_type": "stream",
     "text": [
      "Kalix\n",
      "Male\n",
      "25\n"
     ]
    }
   ],
   "source": [
    "#class\n",
    "\n",
    "class Person :\n",
    "    def __init__(self, name,gender,age):\n",
    "        self.name = name\n",
    "        self.gender = gender\n",
    "        self.age = age\n",
    "X = Person('Kalix', 'Male', 25)\n",
    "print(X.name)\n",
    "print(X.gender)\n",
    "print(X.age)\n",
    "\n",
    "\n",
    "\n",
    "\n",
    "\n"
   ]
  },
  {
   "cell_type": "code",
   "execution_count": 40,
   "metadata": {},
   "outputs": [
    {
     "name": "stdout",
     "output_type": "stream",
     "text": [
      "'Henry' 'Anna' 'Princess' 'Prince'\n"
     ]
    }
   ],
   "source": [
    "#inheritance\n",
    "\n",
    "class family :\n",
    "    def __init__ (self, father, mother, daughter, son) :\n",
    "        self.father = father\n",
    "        self.mother = mother\n",
    "        self.daughter = daughter\n",
    "        self.son = son\n",
    "\n",
    "    def Name(self):\n",
    "     print (self.father, self.mother, self.daughter, self.son)\n",
    "\n",
    "X = family( \"'Henry'\",\"'Anna'\",\"'Princess'\", \"'Prince'\")\n",
    "X.Name()\n",
    "\n",
    "\n",
    "\n",
    "\n"
   ]
  },
  {
   "cell_type": "code",
   "execution_count": 72,
   "metadata": {},
   "outputs": [
    {
     "name": "stdout",
     "output_type": "stream",
     "text": [
      "Student Name: \"Jacob\"\n",
      "Student ID: 21044\n",
      "Student Grade: \"Grade-7\"\n"
     ]
    }
   ],
   "source": [
    "#inheritance\n",
    "\n",
    "class Student:\n",
    "    def __init__(self,StudentName,StudentID,StudentGrade):\n",
    "      self.Name = StudentName\n",
    "      self.ID = StudentID\n",
    "      self.Grade = StudentGrade\n",
    "\n",
    "    def info(self):\n",
    "         print(\"Student Name:\",self.Name) \n",
    "         print(\"Student ID:\",self.ID,)\n",
    "         print(\"Student Grade:\", self.Grade)\n",
    "\n",
    "\n",
    "x = Student('\"Jacob\"', '21044', '\"Grade-7\"')\n",
    "x.info()\n"
   ]
  },
  {
   "cell_type": "code",
   "execution_count": 81,
   "metadata": {},
   "outputs": [
    {
     "name": "stdout",
     "output_type": "stream",
     "text": [
      "Atlantis\n"
     ]
    }
   ],
   "source": [
    "#array\n",
    "Song= [\"Blue sky\", \"Fireflies\", \"Jetlag\",\"Those Eye\", \"Rainbow\", \"Terrified\", \"Atlantis\",\"Fallen\", \"Yellow\",\"Borrowed Time\", \"Old Love\", \"Leaves\"]\n",
    "\n",
    "Song = Song[6]\n",
    "print(Song)\n"
   ]
  },
  {
   "cell_type": "code",
   "execution_count": 23,
   "metadata": {},
   "outputs": [
    {
     "name": "stdout",
     "output_type": "stream",
     "text": [
      "  60 Years old is Adult\n"
     ]
    }
   ],
   "source": [
    "#if else\n",
    "Age1 = 18\n",
    "Age2 = 60\n",
    "if Age1 < Age2:\n",
    "    print(\"  60 Years old is Adult\")\n",
    "\n",
    "else:\n",
    "     print(\" 18 Years old is Teenage\")\n",
    "\n",
    "\n",
    "     \n"
   ]
  },
  {
   "cell_type": "code",
   "execution_count": null,
   "metadata": {},
   "outputs": [],
   "source": []
  },
  {
   "cell_type": "code",
   "execution_count": null,
   "metadata": {},
   "outputs": [],
   "source": [
    "\n"
   ]
  }
 ],
 "metadata": {
  "kernelspec": {
   "display_name": "Python 3.10.7 64-bit",
   "language": "python",
   "name": "python3"
  },
  "language_info": {
   "codemirror_mode": {
    "name": "ipython",
    "version": 3
   },
   "file_extension": ".py",
   "mimetype": "text/x-python",
   "name": "python",
   "nbconvert_exporter": "python",
   "pygments_lexer": "ipython3",
   "version": "3.10.7"
  },
  "orig_nbformat": 4,
  "vscode": {
   "interpreter": {
    "hash": "6bac460c4234234fa46094bead58440b0fc36dc7c284c3a5be98b9417e485cef"
   }
  }
 },
 "nbformat": 4,
 "nbformat_minor": 2
}
